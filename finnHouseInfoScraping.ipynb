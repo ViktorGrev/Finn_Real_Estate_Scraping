{
 "cells": [
  {
   "cell_type": "code",
   "execution_count": 31,
   "metadata": {},
   "outputs": [
    {
     "name": "stdout",
     "output_type": "stream",
     "text": [
      "Requirement already satisfied: beautifulsoup4 in c:\\users\\vikto\\appdata\\local\\programs\\python\\python38-32\\lib\\site-packages (4.12.3)\n",
      "Requirement already satisfied: soupsieve>1.2 in c:\\users\\vikto\\appdata\\local\\programs\\python\\python38-32\\lib\\site-packages (from beautifulsoup4) (2.5)\n",
      "Note: you may need to restart the kernel to use updated packages.\n",
      "Requirement already satisfied: requests in c:\\users\\vikto\\appdata\\local\\programs\\python\\python38-32\\lib\\site-packages (2.31.0)\n",
      "Requirement already satisfied: charset-normalizer<4,>=2 in c:\\users\\vikto\\appdata\\local\\programs\\python\\python38-32\\lib\\site-packages (from requests) (3.3.2)\n",
      "Requirement already satisfied: idna<4,>=2.5 in c:\\users\\vikto\\appdata\\local\\programs\\python\\python38-32\\lib\\site-packages (from requests) (3.6)\n",
      "Requirement already satisfied: urllib3<3,>=1.21.1 in c:\\users\\vikto\\appdata\\local\\programs\\python\\python38-32\\lib\\site-packages (from requests) (2.2.0)\n",
      "Requirement already satisfied: certifi>=2017.4.17 in c:\\users\\vikto\\appdata\\local\\programs\\python\\python38-32\\lib\\site-packages (from requests) (2024.2.2)\n",
      "Note: you may need to restart the kernel to use updated packages.\n",
      "Requirement already satisfied: pandas in c:\\users\\vikto\\appdata\\local\\programs\\python\\python38-32\\lib\\site-packages (2.0.3)\n",
      "Requirement already satisfied: python-dateutil>=2.8.2 in c:\\users\\vikto\\appdata\\roaming\\python\\python38\\site-packages (from pandas) (2.8.2)\n",
      "Requirement already satisfied: pytz>=2020.1 in c:\\users\\vikto\\appdata\\local\\programs\\python\\python38-32\\lib\\site-packages (from pandas) (2024.1)\n",
      "Requirement already satisfied: tzdata>=2022.1 in c:\\users\\vikto\\appdata\\local\\programs\\python\\python38-32\\lib\\site-packages (from pandas) (2023.4)\n",
      "Requirement already satisfied: numpy>=1.20.3 in c:\\users\\vikto\\appdata\\local\\programs\\python\\python38-32\\lib\\site-packages (from pandas) (1.24.4)\n",
      "Requirement already satisfied: six>=1.5 in c:\\users\\vikto\\appdata\\roaming\\python\\python38\\site-packages (from python-dateutil>=2.8.2->pandas) (1.16.0)\n",
      "Note: you may need to restart the kernel to use updated packages.\n"
     ]
    }
   ],
   "source": [
    "%pip install beautifulsoup4\n",
    "%pip install requests\n",
    "%pip install pandas"
   ]
  },
  {
   "cell_type": "code",
   "execution_count": 33,
   "metadata": {},
   "outputs": [
    {
     "data": {
      "text/html": [
       "<div>\n",
       "<style scoped>\n",
       "    .dataframe tbody tr th:only-of-type {\n",
       "        vertical-align: middle;\n",
       "    }\n",
       "\n",
       "    .dataframe tbody tr th {\n",
       "        vertical-align: top;\n",
       "    }\n",
       "\n",
       "    .dataframe thead th {\n",
       "        text-align: right;\n",
       "    }\n",
       "</style>\n",
       "<table border=\"1\" class=\"dataframe\">\n",
       "  <thead>\n",
       "    <tr style=\"text-align: right;\">\n",
       "      <th></th>\n",
       "      <th>Prisantydning</th>\n",
       "      <th>Boligtype</th>\n",
       "      <th>Eieform</th>\n",
       "      <th>Soverom</th>\n",
       "      <th>Primærrom</th>\n",
       "      <th>Bruksareal</th>\n",
       "      <th>Byggeår</th>\n",
       "      <th>Energimerking</th>\n",
       "      <th>Tomteareal</th>\n",
       "    </tr>\n",
       "  </thead>\n",
       "  <tbody>\n",
       "    <tr>\n",
       "      <th>0</th>\n",
       "      <td>12500000</td>\n",
       "      <td>Enebolig</td>\n",
       "      <td>Eier (Selveier)</td>\n",
       "      <td>2</td>\n",
       "      <td>121</td>\n",
       "      <td>191</td>\n",
       "      <td>1961</td>\n",
       "      <td>F - Oransje</td>\n",
       "      <td>903</td>\n",
       "    </tr>\n",
       "  </tbody>\n",
       "</table>\n",
       "</div>"
      ],
      "text/plain": [
       "  Prisantydning Boligtype          Eieform Soverom Primærrom Bruksareal  \\\n",
       "0      12500000  Enebolig  Eier (Selveier)       2       121        191   \n",
       "\n",
       "  Byggeår Energimerking Tomteareal  \n",
       "0    1961   F - Oransje        903  "
      ]
     },
     "execution_count": 33,
     "metadata": {},
     "output_type": "execute_result"
    }
   ],
   "source": [
    "from bs4 import BeautifulSoup\n",
    "import requests\n",
    "import pandas as pd\n",
    "import re\n",
    "\n",
    "urls = [] #List of urls too loop for future project\n",
    "\n",
    "url = 'https://www.finn.no/realestate/homes/ad.html?finnkode=326021112' #Change url for your own Finn ad\n",
    "response = requests.get(url)\n",
    "soup = BeautifulSoup(response.text, 'html.parser')  # Use 'html.parser' instead of just 'html'\n",
    "\n",
    "df_titles = []\n",
    "df_data = []\n",
    "\n",
    "\n",
    "titles = soup.find_all('section', {'aria-label': \"Prisdetaljer\"})\n",
    "title = titles[0].find_all('span')\n",
    "df_titles.append(title[0].text.strip())\n",
    "\n",
    "text = title[1].text.strip()\n",
    "numbers = ' '.join(re.findall(r'\\d+', text))\n",
    "df_data.append(numbers.replace(' ', ''))\n",
    "\n",
    "keyinfo = soup.find_all('section', {'aria-labelledby': \"keyinfo-heading\"})\n",
    "\n",
    "pattern = r'\\d+'\n",
    "\n",
    "for keyinfo in keyinfo:\n",
    "    keyinfo_titles = keyinfo.find_all('dt')\n",
    "    keyinfo_data = keyinfo.find_all('dd')\n",
    "    for i in range(len(keyinfo_titles)):\n",
    "        df_titles.append(keyinfo_titles[i].text.strip())\n",
    "        text = keyinfo_data[i].text.strip()    \n",
    "        if (re.search(pattern, text)):\n",
    "            numbers = ' '.join(re.findall(r'\\d+', text))\n",
    "            df_data.append(numbers)\n",
    "        else: \n",
    "            df_data.append(text)\n",
    "\n",
    "df = pd.DataFrame(columns=df_titles)\n",
    "length = len(df)\n",
    "df.loc[length] = df_data\n",
    "\n",
    "df\n"
   ]
  }
 ],
 "metadata": {
  "kernelspec": {
   "display_name": "Python 3",
   "language": "python",
   "name": "python3"
  },
  "language_info": {
   "codemirror_mode": {
    "name": "ipython",
    "version": 3
   },
   "file_extension": ".py",
   "mimetype": "text/x-python",
   "name": "python",
   "nbconvert_exporter": "python",
   "pygments_lexer": "ipython3",
   "version": "3.8.0"
  }
 },
 "nbformat": 4,
 "nbformat_minor": 2
}
