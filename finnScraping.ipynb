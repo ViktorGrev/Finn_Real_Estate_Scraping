{
 "cells": [
  {
   "cell_type": "code",
   "execution_count": 55,
   "metadata": {},
   "outputs": [
    {
     "name": "stdout",
     "output_type": "stream",
     "text": [
      "Requirement already satisfied: beautifulsoup4 in c:\\users\\vikto\\appdata\\local\\programs\\python\\python38-32\\lib\\site-packages (4.12.3)\n",
      "Requirement already satisfied: soupsieve>1.2 in c:\\users\\vikto\\appdata\\local\\programs\\python\\python38-32\\lib\\site-packages (from beautifulsoup4) (2.5)\n",
      "Note: you may need to restart the kernel to use updated packages.\n",
      "Requirement already satisfied: requests in c:\\users\\vikto\\appdata\\local\\programs\\python\\python38-32\\lib\\site-packages (2.31.0)\n",
      "Requirement already satisfied: charset-normalizer<4,>=2 in c:\\users\\vikto\\appdata\\local\\programs\\python\\python38-32\\lib\\site-packages (from requests) (3.3.2)\n",
      "Requirement already satisfied: idna<4,>=2.5 in c:\\users\\vikto\\appdata\\local\\programs\\python\\python38-32\\lib\\site-packages (from requests) (3.6)\n",
      "Requirement already satisfied: urllib3<3,>=1.21.1 in c:\\users\\vikto\\appdata\\local\\programs\\python\\python38-32\\lib\\site-packages (from requests) (2.2.0)\n",
      "Requirement already satisfied: certifi>=2017.4.17 in c:\\users\\vikto\\appdata\\local\\programs\\python\\python38-32\\lib\\site-packages (from requests) (2024.2.2)\n",
      "Note: you may need to restart the kernel to use updated packages.\n",
      "Requirement already satisfied: pandas in c:\\users\\vikto\\appdata\\local\\programs\\python\\python38-32\\lib\\site-packages (2.0.3)\n",
      "Requirement already satisfied: python-dateutil>=2.8.2 in c:\\users\\vikto\\appdata\\roaming\\python\\python38\\site-packages (from pandas) (2.8.2)\n",
      "Requirement already satisfied: pytz>=2020.1 in c:\\users\\vikto\\appdata\\local\\programs\\python\\python38-32\\lib\\site-packages (from pandas) (2024.1)\n",
      "Requirement already satisfied: tzdata>=2022.1 in c:\\users\\vikto\\appdata\\local\\programs\\python\\python38-32\\lib\\site-packages (from pandas) (2023.4)\n",
      "Requirement already satisfied: numpy>=1.20.3 in c:\\users\\vikto\\appdata\\local\\programs\\python\\python38-32\\lib\\site-packages (from pandas) (1.24.4)\n",
      "Requirement already satisfied: six>=1.5 in c:\\users\\vikto\\appdata\\roaming\\python\\python38\\site-packages (from python-dateutil>=2.8.2->pandas) (1.16.0)\n",
      "Note: you may need to restart the kernel to use updated packages.\n"
     ]
    }
   ],
   "source": [
    "%pip install beautifulsoup4\n",
    "%pip install requests\n",
    "%pip install pandas"
   ]
  },
  {
   "cell_type": "code",
   "execution_count": 56,
   "metadata": {},
   "outputs": [],
   "source": [
    "from bs4 import BeautifulSoup\n",
    "import requests\n",
    "import pandas as pd\n",
    "import re"
   ]
  },
  {
   "cell_type": "code",
   "execution_count": 57,
   "metadata": {},
   "outputs": [],
   "source": [
    "url = 'https://www.finn.no/realestate/homes/ad.html?finnkode=339337279'\n",
    "response = requests.get(url)\n",
    "soup = BeautifulSoup(response.text, 'html')"
   ]
  },
  {
   "cell_type": "code",
   "execution_count": 58,
   "metadata": {},
   "outputs": [
    {
     "name": "stdout",
     "output_type": "stream",
     "text": [
      "[<dt class=\"m-0\">Totalpris</dt>, <dt class=\"m-0\">Omkostninger</dt>, <dt class=\"m-0\">Felleskost/mnd.</dt>, <dt class=\"m-0\">Kommunale avg.</dt>, <dt class=\"m-0\">Eiendomsskatt</dt>, <dt class=\"m-0\">Formuesverdi</dt>, <dt class=\"m-0\">Boligtype</dt>, <dt class=\"m-0\">Eieform</dt>, <dt class=\"m-0\">Soverom</dt>, <dt class=\"m-0\">Internt bruksareal</dt>, <dt class=\"m-0\">Bruksareal</dt>, <dt class=\"m-0\">Eksternt bruksareal</dt>, <dt class=\"m-0\">Balkong/Terrasse</dt>, <dt class=\"m-0\">Byggeår</dt>, <dt class=\"m-0\">Energimerking</dt>, <dt class=\"m-0\">Rom</dt>, <dt class=\"m-0\">Tomteareal</dt>]\n"
     ]
    }
   ],
   "source": [
    "titles = soup.find_all('dt')\n",
    "print(titles)"
   ]
  },
  {
   "cell_type": "code",
   "execution_count": 59,
   "metadata": {},
   "outputs": [
    {
     "name": "stdout",
     "output_type": "stream",
     "text": [
      "['Totalpris', 'Omkostninger', 'Felleskost/mnd.', 'Kommunale avg.', 'Eiendomsskatt', 'Formuesverdi', 'Boligtype', 'Eieform', 'Soverom', 'Internt bruksareal', 'Bruksareal', 'Eksternt bruksareal', 'Balkong/Terrasse', 'Byggeår', 'Energimerking', 'Rom', 'Tomteareal']\n"
     ]
    }
   ],
   "source": [
    "stripped_titles = [title.text.strip() for title in titles]\n",
    "print(stripped_titles)"
   ]
  },
  {
   "cell_type": "code",
   "execution_count": 60,
   "metadata": {},
   "outputs": [
    {
     "data": {
      "text/html": [
       "<div>\n",
       "<style scoped>\n",
       "    .dataframe tbody tr th:only-of-type {\n",
       "        vertical-align: middle;\n",
       "    }\n",
       "\n",
       "    .dataframe tbody tr th {\n",
       "        vertical-align: top;\n",
       "    }\n",
       "\n",
       "    .dataframe thead th {\n",
       "        text-align: right;\n",
       "    }\n",
       "</style>\n",
       "<table border=\"1\" class=\"dataframe\">\n",
       "  <thead>\n",
       "    <tr style=\"text-align: right;\">\n",
       "      <th></th>\n",
       "      <th>Totalpris</th>\n",
       "      <th>Omkostninger</th>\n",
       "      <th>Felleskost/mnd.</th>\n",
       "      <th>Kommunale avg.</th>\n",
       "      <th>Eiendomsskatt</th>\n",
       "      <th>Formuesverdi</th>\n",
       "      <th>Boligtype</th>\n",
       "      <th>Eieform</th>\n",
       "      <th>Soverom</th>\n",
       "      <th>Internt bruksareal</th>\n",
       "      <th>Bruksareal</th>\n",
       "      <th>Eksternt bruksareal</th>\n",
       "      <th>Balkong/Terrasse</th>\n",
       "      <th>Byggeår</th>\n",
       "      <th>Energimerking</th>\n",
       "      <th>Rom</th>\n",
       "      <th>Tomteareal</th>\n",
       "    </tr>\n",
       "  </thead>\n",
       "  <tbody>\n",
       "  </tbody>\n",
       "</table>\n",
       "</div>"
      ],
      "text/plain": [
       "Empty DataFrame\n",
       "Columns: [Totalpris, Omkostninger, Felleskost/mnd., Kommunale avg., Eiendomsskatt, Formuesverdi, Boligtype, Eieform, Soverom, Internt bruksareal, Bruksareal, Eksternt bruksareal, Balkong/Terrasse, Byggeår, Energimerking, Rom, Tomteareal]\n",
       "Index: []"
      ]
     },
     "execution_count": 60,
     "metadata": {},
     "output_type": "execute_result"
    }
   ],
   "source": [
    "df = pd.DataFrame(columns=stripped_titles)\n",
    "df"
   ]
  },
  {
   "cell_type": "code",
   "execution_count": 61,
   "metadata": {},
   "outputs": [],
   "source": [
    "column_data = soup.find_all('dd')"
   ]
  },
  {
   "cell_type": "code",
   "execution_count": 62,
   "metadata": {},
   "outputs": [],
   "source": [
    "individual_row_data = []\n",
    "for data in column_data:\n",
    "    text = data.text.strip()\n",
    "    \n",
    "    pattern = r'\\d+'\n",
    "    if (re.search(pattern, text)):\n",
    "        numbers = ' '.join(re.findall(r'\\d+', text))\n",
    "        individual_row_data.append(numbers)\n",
    "    else: \n",
    "        individual_row_data.append(text)\n",
    "length = len(df)\n",
    "df.loc[length] = individual_row_data"
   ]
  },
  {
   "cell_type": "code",
   "execution_count": 63,
   "metadata": {},
   "outputs": [
    {
     "data": {
      "text/html": [
       "<div>\n",
       "<style scoped>\n",
       "    .dataframe tbody tr th:only-of-type {\n",
       "        vertical-align: middle;\n",
       "    }\n",
       "\n",
       "    .dataframe tbody tr th {\n",
       "        vertical-align: top;\n",
       "    }\n",
       "\n",
       "    .dataframe thead th {\n",
       "        text-align: right;\n",
       "    }\n",
       "</style>\n",
       "<table border=\"1\" class=\"dataframe\">\n",
       "  <thead>\n",
       "    <tr style=\"text-align: right;\">\n",
       "      <th></th>\n",
       "      <th>Totalpris</th>\n",
       "      <th>Omkostninger</th>\n",
       "      <th>Felleskost/mnd.</th>\n",
       "      <th>Kommunale avg.</th>\n",
       "      <th>Eiendomsskatt</th>\n",
       "      <th>Formuesverdi</th>\n",
       "      <th>Boligtype</th>\n",
       "      <th>Eieform</th>\n",
       "      <th>Soverom</th>\n",
       "      <th>Internt bruksareal</th>\n",
       "      <th>Bruksareal</th>\n",
       "      <th>Eksternt bruksareal</th>\n",
       "      <th>Balkong/Terrasse</th>\n",
       "      <th>Byggeår</th>\n",
       "      <th>Energimerking</th>\n",
       "      <th>Rom</th>\n",
       "      <th>Tomteareal</th>\n",
       "    </tr>\n",
       "  </thead>\n",
       "  <tbody>\n",
       "    <tr>\n",
       "      <th>0</th>\n",
       "      <td>9 123 500</td>\n",
       "      <td>223 500</td>\n",
       "      <td>1 290</td>\n",
       "      <td>20 642</td>\n",
       "      <td>4 583</td>\n",
       "      <td>2 071 785</td>\n",
       "      <td>Rekkehus</td>\n",
       "      <td>Eier (Selveier)</td>\n",
       "      <td>2</td>\n",
       "      <td>122</td>\n",
       "      <td>124</td>\n",
       "      <td>2</td>\n",
       "      <td>27</td>\n",
       "      <td>1980</td>\n",
       "      <td>F - Rød</td>\n",
       "      <td>4</td>\n",
       "      <td>146</td>\n",
       "    </tr>\n",
       "  </tbody>\n",
       "</table>\n",
       "</div>"
      ],
      "text/plain": [
       "   Totalpris Omkostninger Felleskost/mnd. Kommunale avg. Eiendomsskatt  \\\n",
       "0  9 123 500      223 500           1 290         20 642         4 583   \n",
       "\n",
       "  Formuesverdi Boligtype          Eieform Soverom Internt bruksareal  \\\n",
       "0    2 071 785  Rekkehus  Eier (Selveier)       2                122   \n",
       "\n",
       "  Bruksareal Eksternt bruksareal Balkong/Terrasse Byggeår Energimerking Rom  \\\n",
       "0        124                   2               27    1980       F - Rød   4   \n",
       "\n",
       "  Tomteareal  \n",
       "0        146  "
      ]
     },
     "execution_count": 63,
     "metadata": {},
     "output_type": "execute_result"
    }
   ],
   "source": [
    "df"
   ]
  },
  {
   "cell_type": "markdown",
   "metadata": {},
   "source": [
    "<h1>Adding more data from Finn with same structure</h1>"
   ]
  },
  {
   "cell_type": "code",
   "execution_count": null,
   "metadata": {},
   "outputs": [],
   "source": [
    "\n"
   ]
  }
 ],
 "metadata": {
  "kernelspec": {
   "display_name": "Python 3",
   "language": "python",
   "name": "python3"
  },
  "language_info": {
   "codemirror_mode": {
    "name": "ipython",
    "version": 3
   },
   "file_extension": ".py",
   "mimetype": "text/x-python",
   "name": "python",
   "nbconvert_exporter": "python",
   "pygments_lexer": "ipython3",
   "version": "3.8.0"
  }
 },
 "nbformat": 4,
 "nbformat_minor": 2
}
